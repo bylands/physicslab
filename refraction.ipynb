{
 "cells": [
  {
   "cell_type": "code",
   "execution_count": null,
   "metadata": {},
   "outputs": [],
   "source": [
    "import matplotlib.pyplot as plt\n",
    "import numpy as np\n",
    "\n",
    "from scipy.optimize import curve_fit"
   ]
  },
  {
   "cell_type": "code",
   "execution_count": null,
   "metadata": {},
   "outputs": [],
   "source": [
    "def plot_error(x_data, y_data, x_error, y_error, x_label='', y_label='', title='', label=''):\n",
    "    plt.style.use('seaborn-v0_8-whitegrid')\n",
    "    plt.figure(figsize=(10,5), dpi=300)\n",
    "    plt.title(title)\n",
    "    plt.xlabel(x_label)\n",
    "    plt.ylabel(y_label)\n",
    "\n",
    "    plt.errorbar(x_data, y_data, yerr=y_error, xerr=x_error, fmt='.', ecolor='black', capsize=2, label=label)\n",
    "    return plt\n",
    "\n",
    "def plot_data(x_data, y_data, x_label='', y_label='', title='', label=''):\n",
    "    return plot_error(x_data, y_data, x_error=0, y_error=0, x_label=x_label, y_label=y_label, title=title, label=label)"
   ]
  },
  {
   "cell_type": "code",
   "execution_count": null,
   "metadata": {},
   "outputs": [],
   "source": [
    "al_deg = np.array([0, 5, 10, 15, 20, 25, 30, 35, 40, 45, 50, 55, 60, 65, 70, 75, 80, 85])\n",
    "be_deg = np.array([0, 4.0, 7.5, 11.0, 15.0, 18.5, 22.0, 25.5, 29.0, 32.0, 35.0, 38.0, 40.5, 43.0, 45.0, 46.5, 48.0, 48.5])\n",
    "\n",
    "al = al_deg * np.pi/180\n",
    "be = be_deg * np.pi/180"
   ]
  },
  {
   "cell_type": "code",
   "execution_count": null,
   "metadata": {},
   "outputs": [],
   "source": [
    "dal = dbe = 0.5 * np.pi/180"
   ]
  },
  {
   "cell_type": "code",
   "execution_count": null,
   "metadata": {},
   "outputs": [],
   "source": [
    "def f(x, n):\n",
    "    return np.arcsin(n * np.sin(x))"
   ]
  },
  {
   "cell_type": "code",
   "execution_count": null,
   "metadata": {},
   "outputs": [],
   "source": [
    "a_fit, cov = curve_fit(f, al, be)\n",
    "\n",
    "x1 = np.linspace(0, np.pi/2, 1000)\n",
    "y1 = f(x1, a_fit)\n",
    "\n",
    "print(f'n = {1/a_fit[0]:.3f}')"
   ]
  },
  {
   "cell_type": "code",
   "execution_count": null,
   "metadata": {},
   "outputs": [],
   "source": [
    "title1 = 'Refractive Angle vs. Incoming Angle'\n",
    "x_label1 = r'$\\alpha$ (rad)'\n",
    "y_label1 = r'$\\beta$ (rad)'\n",
    "\n",
    "graph1 = plot_error(al, be, dal, dbe, title=title1, x_label=x_label1, y_label=y_label1, label='data')\n",
    "graph1.plot(x1, y1, label='fit function')\n",
    "graph1.legend()\n",
    "graph1.show()"
   ]
  },
  {
   "cell_type": "code",
   "execution_count": null,
   "metadata": {},
   "outputs": [],
   "source": [
    "res_be = be-f(al, a_fit)\n",
    "\n",
    "title = 'Residuals'\n",
    "x_label = r'$\\alpha$'\n",
    "y_label = r'$\\Delta\\beta$ (rad)'\n",
    "\n",
    "graph = plot_error(al, res_be, 0, dbe, title=title, x_label=x_label, y_label=y_label, label='data')"
   ]
  },
  {
   "cell_type": "code",
   "execution_count": null,
   "metadata": {},
   "outputs": [],
   "source": [
    "N = 1000 # number of simulation runs\n",
    "\n",
    "a_min = a_fit[0]\n",
    "n_fit = 1 / a_fit[0]\n",
    "\n",
    "for i in range(N):\n",
    "    al_rnd = al + np.random.rand(1) * dal\n",
    "    be_rnd = be + np.random.rand(1) * dbe\n",
    "\n",
    "    a_rnd, cov_rnd = curve_fit(f, al_rnd, be_rnd)\n",
    "    a_min = min(a_rnd[0], a_min)\n",
    "\n",
    "n_max = 1 / a_min\n",
    "dn = (n_max - n_fit)\n",
    "\n",
    "print(f'n = ({n_fit:.5f} ± {dn:.5f}) m/s2 = ({n_fit:.2f} ± {dn:.2f}) m/s2')"
   ]
  },
  {
   "cell_type": "code",
   "execution_count": null,
   "metadata": {},
   "outputs": [],
   "source": [
    "sin_al = np.sin(al)\n",
    "sin_be = np.sin(be)\n",
    "\n",
    "dsin_al = np.sin(al+dal)-sin_al\n",
    "dsin_be = np.sin(be+dbe)-sin_be"
   ]
  },
  {
   "cell_type": "code",
   "execution_count": null,
   "metadata": {},
   "outputs": [],
   "source": [
    "def g(x, n):\n",
    "    return x / n"
   ]
  },
  {
   "cell_type": "code",
   "execution_count": null,
   "metadata": {},
   "outputs": [],
   "source": [
    "n_fit, cov = curve_fit(g, sin_al, sin_be)\n",
    "\n",
    "x2 = np.linspace(0, 1, 1000)\n",
    "y2 = g(x2, n_fit)\n",
    "\n",
    "print(f'n = {n_fit[0]:.3f}')"
   ]
  },
  {
   "cell_type": "code",
   "execution_count": null,
   "metadata": {},
   "outputs": [],
   "source": [
    "title2 = r'$\\sin\\beta$ vs. $\\sin\\alpha$'\n",
    "x_label2 = r'$\\sin\\alpha$'\n",
    "y_label2 = r'$\\sin\\beta$'\n",
    "\n",
    "graph2 = plot_error(sin_al, sin_be, dsin_al, dsin_be, title=title2, x_label=x_label2, y_label=y_label2, label='data')\n",
    "graph2.plot(x2, y2, label='fit function')\n",
    "graph2.legend()\n",
    "graph2.show()"
   ]
  },
  {
   "cell_type": "code",
   "execution_count": null,
   "metadata": {},
   "outputs": [],
   "source": [
    "res_sin_be = sin_be-g(sin_al, n_fit)\n",
    "\n",
    "title = 'Residuals'\n",
    "x_label = r'$\\sin\\alpha$'\n",
    "y_label = r'$\\Delta(\\sin\\beta)$'\n",
    "\n",
    "graph = plot_error(sin_al, res_sin_be, 0, dsin_be, title=title, x_label=x_label, y_label=y_label, label='data')"
   ]
  },
  {
   "cell_type": "code",
   "execution_count": null,
   "metadata": {},
   "outputs": [],
   "source": [
    "N = 1000 # number of simulation runs\n",
    "\n",
    "n_max = n_fit[0]\n",
    "\n",
    "for i in range(N):\n",
    "    sin_al_rnd = sin_al + np.random.rand(1) * dsin_al\n",
    "    sin_be_rnd = sin_be + np.random.rand(1) * dsin_be\n",
    "\n",
    "    n_rnd, cov_rnd = curve_fit(g, sin_al_rnd, sin_be_rnd)\n",
    "    n_max = max(n_rnd[0], n_max)\n",
    "\n",
    "dn = (n_max - n_fit[0])\n",
    "\n",
    "print(f'n = ({n_fit[0]:.5f} ± {dn:.5f}) m/s2 = ({n_fit[0]:.2f} ± {dn:.2f}) m/s2')\n"
   ]
  }
 ],
 "metadata": {
  "kernelspec": {
   "display_name": "physicslab",
   "language": "python",
   "name": "python3"
  },
  "language_info": {
   "codemirror_mode": {
    "name": "ipython",
    "version": 3
   },
   "file_extension": ".py",
   "mimetype": "text/x-python",
   "name": "python",
   "nbconvert_exporter": "python",
   "pygments_lexer": "ipython3",
   "version": "3.10.9"
  }
 },
 "nbformat": 4,
 "nbformat_minor": 2
}
