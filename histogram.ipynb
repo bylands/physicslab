{
 "cells": [
  {
   "attachments": {},
   "cell_type": "markdown",
   "metadata": {},
   "source": [
    "### Import Libraries"
   ]
  },
  {
   "cell_type": "code",
   "execution_count": null,
   "metadata": {},
   "outputs": [],
   "source": [
    "import matplotlib.pyplot as plt\n",
    "import numpy as np"
   ]
  },
  {
   "attachments": {},
   "cell_type": "markdown",
   "metadata": {},
   "source": [
    "### Read/simulate times"
   ]
  },
  {
   "cell_type": "code",
   "execution_count": null,
   "metadata": {},
   "outputs": [],
   "source": [
    "# measured times\n",
    "times = np.array([5.65, 5.69, 5.68, 5.67, 5.70, 5.66, 5.63, 5.66, 5.77, 5.67])\n",
    "\n",
    "# simulated times\n",
    "# times = np.random.normal(5.28, 0.05, 100)"
   ]
  },
  {
   "attachments": {},
   "cell_type": "markdown",
   "metadata": {},
   "source": [
    "### Plot Histogram"
   ]
  },
  {
   "cell_type": "code",
   "execution_count": null,
   "metadata": {},
   "outputs": [],
   "source": [
    "plt.style.use('seaborn-v0_8-whitegrid')     # create plot object with style\n",
    "plt.figure(figsize=(10,5), dpi=300)         # set size and resolution\n",
    "plt.title('Histogram of Times')             # add title\n",
    "plt.xlabel('Time (s)')                      # add x-axis label\n",
    "plt.ylabel('N')                             # add y-axis label\n",
    "\n",
    "plt.hist(times, bins=25)                    # plot histogram with N bins\n",
    "plt.show()                                  # display plot object"
   ]
  },
  {
   "attachments": {},
   "cell_type": "markdown",
   "metadata": {},
   "source": [
    "### Calculate mean and errors"
   ]
  },
  {
   "cell_type": "code",
   "execution_count": null,
   "metadata": {},
   "outputs": [],
   "source": [
    "N = len(times) # number of data points\n",
    "t_mean = times.mean() # average value\n",
    "t_max = max(times) # maximum value\n",
    "t_min = min(times) # minimum value\n",
    "dt = (t_max - t_min)/2 # error\n",
    "dt_pos = [t_max - t_mean] * N # positive error (list)\n",
    "dt_neg = [t_mean - t_min] * N # negativ error (list)\n",
    "\n",
    "print(f't = ({t_mean:.2f} ± {dt:.2f}) s')"
   ]
  },
  {
   "attachments": {},
   "cell_type": "markdown",
   "metadata": {},
   "source": [
    "### Residual Plot"
   ]
  },
  {
   "cell_type": "code",
   "execution_count": null,
   "metadata": {},
   "outputs": [],
   "source": [
    "plt.style.use('seaborn-v0_8-whitegrid')\n",
    "plt.figure(figsize=(10,5), dpi=300)\n",
    "plt.title('Variation of Measured Times')\n",
    "plt.xlabel('Measurement #')\n",
    "plt.ylabel('Deviation from Mean Value (s)')\n",
    "\n",
    "# plot residuals with symmetric error bars\n",
    "# plt.errorbar(range(1, len(times)+1), times - t_mean, yerr=dt, fmt='.', ecolor='black', capsize=2)\n",
    "\n",
    "# plot residuals with positive/negative error bars\n",
    "plt.errorbar(range(1, len(times)+1), times - t_mean, yerr=[dt_pos, dt_neg], fmt='.', ecolor='black', capsize=2)\n",
    "\n",
    "plt.show()"
   ]
  },
  {
   "cell_type": "code",
   "execution_count": null,
   "metadata": {},
   "outputs": [],
   "source": []
  }
 ],
 "metadata": {
  "kernelspec": {
   "display_name": "physicslab",
   "language": "python",
   "name": "python3"
  },
  "language_info": {
   "codemirror_mode": {
    "name": "ipython",
    "version": 3
   },
   "file_extension": ".py",
   "mimetype": "text/x-python",
   "name": "python",
   "nbconvert_exporter": "python",
   "pygments_lexer": "ipython3",
   "version": "3.10.9"
  }
 },
 "nbformat": 4,
 "nbformat_minor": 2
}
