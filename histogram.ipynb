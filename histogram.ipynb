{
 "cells": [
  {
   "cell_type": "code",
   "execution_count": null,
   "metadata": {},
   "outputs": [],
   "source": [
    "import matplotlib.pyplot as plt\n",
    "import numpy as np"
   ]
  },
  {
   "cell_type": "code",
   "execution_count": null,
   "metadata": {},
   "outputs": [],
   "source": [
    "times = np.random.normal(5.28, 0.05, 10000)"
   ]
  },
  {
   "cell_type": "code",
   "execution_count": null,
   "metadata": {},
   "outputs": [],
   "source": [
    "plt.style.use('seaborn-v0_8-whitegrid')\n",
    "plt.figure(figsize=(10,5), dpi=300)\n",
    "plt.title('Histogram of Times')\n",
    "plt.xlabel('Time (s)')\n",
    "plt.ylabel('N')\n",
    "\n",
    "plt.hist(times, bins=50)"
   ]
  },
  {
   "cell_type": "code",
   "execution_count": null,
   "metadata": {},
   "outputs": [],
   "source": [
    "N = len(times)\n",
    "t_mean = times.mean()\n",
    "t_max = max(times)\n",
    "t_min = min(times)\n",
    "dt = (t_max - t_min)/2\n",
    "dt_pos = [t_max - t_mean] * N\n",
    "dt_neg = [t_mean - t_min] * N\n",
    "\n",
    "print(f't = ({t_mean:.2f} ± {dt:.2f}) s')"
   ]
  },
  {
   "cell_type": "code",
   "execution_count": null,
   "metadata": {},
   "outputs": [],
   "source": [
    "plt.style.use('seaborn-v0_8-whitegrid')\n",
    "plt.figure(figsize=(10,5), dpi=300)\n",
    "plt.title('Variation of Measured Times')\n",
    "plt.xlabel('Measurement #')\n",
    "plt.ylabel('Deviation from Mean Value (s)')\n",
    "\n",
    "plt.errorbar(range(1, len(times)+1), times - t_mean, yerr=dt, fmt='.', ecolor='black', capsize=2)\n",
    "# plt.errorbar(range(1, len(times)+1), times - t_mean, yerr=[dt_pos, dt_neg], fmt='.', ecolor='black', capsize=2)"
   ]
  },
  {
   "cell_type": "code",
   "execution_count": null,
   "metadata": {},
   "outputs": [],
   "source": []
  }
 ],
 "metadata": {
  "kernelspec": {
   "display_name": "physicslab",
   "language": "python",
   "name": "python3"
  },
  "language_info": {
   "codemirror_mode": {
    "name": "ipython",
    "version": 3
   },
   "file_extension": ".py",
   "mimetype": "text/x-python",
   "name": "python",
   "nbconvert_exporter": "python",
   "pygments_lexer": "ipython3",
   "version": "3.10.9"
  }
 },
 "nbformat": 4,
 "nbformat_minor": 2
}
