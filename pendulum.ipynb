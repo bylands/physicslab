{
 "cells": [
  {
   "attachments": {},
   "cell_type": "markdown",
   "metadata": {},
   "source": [
    "# Mathematical Pendulum"
   ]
  },
  {
   "attachments": {},
   "cell_type": "markdown",
   "metadata": {},
   "source": [
    "### Import libraries"
   ]
  },
  {
   "cell_type": "code",
   "execution_count": null,
   "metadata": {},
   "outputs": [],
   "source": [
    "import numpy as np\n",
    "import matplotlib.pyplot as plt\n",
    "from scipy.optimize import curve_fit"
   ]
  },
  {
   "attachments": {},
   "cell_type": "markdown",
   "metadata": {},
   "source": [
    "### Data"
   ]
  },
  {
   "cell_type": "code",
   "execution_count": null,
   "metadata": {},
   "outputs": [],
   "source": [
    "# length in cm\n",
    "# length_cm =np.array([12.1, 20.9, 25.8, 35.3, 43.5, 48.6, 52.2, 64.1, 68.7, 89.3])+0.75 # By\n",
    "length_cm =np.array([17.6, 17.6, 17.6, 20.5, 20.5, 20.5, 22.8, 22.8, 22.8, 32.79, 32.79, 32.79, \n",
    "                     40.5, 40.5, 40.5, 49.7, 49.7, 61.9, 61.9, 68.8, 68.8, 80.5, 80.5, 87, 87]) # Feli & Lou-Anna\n",
    "\n",
    "# time for N periods in s\n",
    "# time = np.array([14.35, 18.69, 20.74, 12.05, 13.29, 14.09, 14.7, 16.13, 16.65, 18.97]) # By\n",
    "time = np.array([16.81, 16.77, 16.82, 18.18, 18.12, 18.06, 19.11, 18.97, 19.02, 23.02, 22.93, 23.00, \n",
    "                 25.57, 25.57, 25.52, 28.31, 28.30, 31.60, 31.55, 33.34, 33.37, 36.09, 35.99, \n",
    "                 37.45, 37.50]) # Feli & Lou-Anna\n",
    "# periods\n",
    "# N_periods = np.array([20, 20, 20, 10, 10, 10, 10, 10, 10, 10]) # By\n",
    "N_periods = np.ones(len(time)) * 20"
   ]
  },
  {
   "attachments": {},
   "cell_type": "markdown",
   "metadata": {},
   "source": [
    "### Calculate values in basic units and per period"
   ]
  },
  {
   "cell_type": "code",
   "execution_count": null,
   "metadata": {},
   "outputs": [],
   "source": [
    "period = time/N_periods\n",
    "length = length_cm / 100"
   ]
  },
  {
   "attachments": {},
   "cell_type": "markdown",
   "metadata": {},
   "source": [
    "### Define Plots"
   ]
  },
  {
   "cell_type": "code",
   "execution_count": null,
   "metadata": {},
   "outputs": [],
   "source": [
    "def plot_error(x_data, y_data, x_error, y_error, x_label='', y_label='', title='', label=''):\n",
    "    plt.style.use('seaborn-v0_8-whitegrid')\n",
    "    plt.figure(figsize=(10,5), dpi=300)\n",
    "    plt.title(title)\n",
    "    plt.xlabel(x_label)\n",
    "    plt.ylabel(y_label)\n",
    "\n",
    "    plt.errorbar(x_data, y_data, yerr=y_error, xerr=x_error, fmt='.', ecolor='black', capsize=2, label=label)\n",
    "    return plt\n",
    "\n",
    "def plot_data(x_data, y_data, x_label='', y_label='', title='', label=''):\n",
    "    return plot_error(x_data, y_data, x_error=0, y_error=0, x_label=x_label, y_label=y_label, title=title, label=label)"
   ]
  },
  {
   "attachments": {},
   "cell_type": "markdown",
   "metadata": {},
   "source": [
    "### Plot Data"
   ]
  },
  {
   "cell_type": "code",
   "execution_count": null,
   "metadata": {},
   "outputs": [],
   "source": [
    "x_label = 'Length (m)'\n",
    "y_label = 'Period (s)'\n",
    "title = 'Period vs. Length for Mathematical Pendulum'\n",
    "\n",
    "graph_TL = plot_data(length, period, x_label=x_label, y_label=y_label, title=title)\n",
    "graph_TL.show()"
   ]
  },
  {
   "attachments": {},
   "cell_type": "markdown",
   "metadata": {},
   "source": [
    "### Errors"
   ]
  },
  {
   "cell_type": "code",
   "execution_count": null,
   "metadata": {},
   "outputs": [],
   "source": [
    "# time error per measurement in s\n",
    "dt = 0.1\n",
    "# length error in m\n",
    "dl = 0.005\n",
    "dT= dt/N_periods"
   ]
  },
  {
   "attachments": {},
   "cell_type": "markdown",
   "metadata": {},
   "source": [
    "### Plot graph with error bars"
   ]
  },
  {
   "cell_type": "code",
   "execution_count": null,
   "metadata": {},
   "outputs": [],
   "source": [
    "graph_TL = plot_error(length, period, dl, dT, x_label=x_label, y_label=y_label, title=title)\n",
    "graph_TL.show()"
   ]
  },
  {
   "attachments": {},
   "cell_type": "markdown",
   "metadata": {},
   "source": [
    "### Define Fit Function"
   ]
  },
  {
   "cell_type": "code",
   "execution_count": null,
   "metadata": {},
   "outputs": [],
   "source": [
    "def f(x, a):\n",
    "    return a * np.sqrt(x)"
   ]
  },
  {
   "attachments": {},
   "cell_type": "markdown",
   "metadata": {},
   "source": [
    "### Calculate Fit Parameters and Plot Best Fit"
   ]
  },
  {
   "cell_type": "code",
   "execution_count": null,
   "metadata": {},
   "outputs": [],
   "source": [
    "a_optimal, cov = curve_fit(f, length, period)\n",
    "\n",
    "x = np.linspace(min(length), max(length), 1000)\n",
    "y = f(x, a_optimal)\n",
    "\n",
    "graph_TL = plot_error(length, period, dl, dT, x_label=x_label, y_label=y_label, title=title, label='data')\n",
    "graph_TL.plot(x, y, label='fit_function')\n",
    "graph_TL.legend()\n",
    "graph_TL.show()\n"
   ]
  },
  {
   "attachments": {},
   "cell_type": "markdown",
   "metadata": {},
   "source": [
    "### Calculate Residuals and Show Residual Plot"
   ]
  },
  {
   "cell_type": "code",
   "execution_count": null,
   "metadata": {},
   "outputs": [],
   "source": [
    "res = period - f(length, a_optimal)\n",
    "\n",
    "res_plot = plot_error(range(1, len(time)+1), res, 0, dT, x_label=x_label, y_label=y_label, title=title)\n",
    "res_plot.show()\n"
   ]
  },
  {
   "attachments": {},
   "cell_type": "markdown",
   "metadata": {},
   "source": [
    "### Calculate Gravitational Acceleration"
   ]
  },
  {
   "attachments": {},
   "cell_type": "markdown",
   "metadata": {},
   "source": [
    "#### from data points"
   ]
  },
  {
   "cell_type": "code",
   "execution_count": null,
   "metadata": {},
   "outputs": [],
   "source": [
    "g = 4 * np.pi**2 * length / period**2\n",
    "N = len(g)\n",
    "\n",
    "gmax = 4 * np.pi**2 * (length + dl) / (period - dT)**2\n",
    "dg = (gmax - g).mean()\n",
    "\n",
    "\n",
    "print(f'g = ({g.mean():.5f} ± {dg:.5f}) m/s2 = ({g.mean():.2f} ± {dg:.2f}) m/s2')"
   ]
  },
  {
   "attachments": {},
   "cell_type": "markdown",
   "metadata": {},
   "source": [
    "#### from fit parameter"
   ]
  },
  {
   "cell_type": "code",
   "execution_count": null,
   "metadata": {},
   "outputs": [],
   "source": [
    "g_fit = (4 * np.pi**2 / a_optimal**2)[0]\n",
    "\n",
    "# simulate error for g\n",
    "\n",
    "N = 1000 # number of simulation runs\n",
    "\n",
    "a_min = a_optimal\n",
    "\n",
    "for i in range(N):\n",
    "    period_rnd = period + np.random.rand(1) * dT\n",
    "    length_rnd = length + np.random.rand(1) * dl\n",
    "\n",
    "    a_rnd, cov_rnd = curve_fit(f, length_rnd, period_rnd)\n",
    "    a_min = min(a_rnd, a_min)\n",
    "\n",
    "g_max = (4 * np.pi**2 / a_min**2)[0]\n",
    "\n",
    "dg = (g_max - g_fit)\n",
    "\n",
    "print(f'g = ({g_fit:.5f} ± {dg:.5f}) m/s2 = ({g_fit:.2f} ± {dg:.2f}) m/s2')\n"
   ]
  }
 ],
 "metadata": {
  "kernelspec": {
   "display_name": "physicslab",
   "language": "python",
   "name": "python3"
  },
  "language_info": {
   "codemirror_mode": {
    "name": "ipython",
    "version": 3
   },
   "file_extension": ".py",
   "mimetype": "text/x-python",
   "name": "python",
   "nbconvert_exporter": "python",
   "pygments_lexer": "ipython3",
   "version": "3.10.9"
  }
 },
 "nbformat": 4,
 "nbformat_minor": 2
}
