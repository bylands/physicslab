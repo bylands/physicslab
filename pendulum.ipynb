{
 "cells": [
  {
   "attachments": {},
   "cell_type": "markdown",
   "metadata": {},
   "source": [
    "# Mathematical Pendulum"
   ]
  },
  {
   "attachments": {},
   "cell_type": "markdown",
   "metadata": {},
   "source": [
    "### Import libraries"
   ]
  },
  {
   "cell_type": "code",
   "execution_count": null,
   "metadata": {},
   "outputs": [],
   "source": [
    "import numpy as np\n",
    "import matplotlib.pyplot as plt\n",
    "from scipy.optimize import curve_fit"
   ]
  },
  {
   "attachments": {},
   "cell_type": "markdown",
   "metadata": {},
   "source": [
    "### Data"
   ]
  },
  {
   "cell_type": "code",
   "execution_count": null,
   "metadata": {},
   "outputs": [],
   "source": [
    "# length in cm\n",
    "length_cm =np.array([12.1, 20.9, 25.8, 35.3, 43.5, 48.6, 52.2, 64.1, 68.7, 89.3])+0.75\n",
    "# time for N periods in s\n",
    "time = np.array([14.35, 18.69, 20.74, 12.05, 13.29, 14.09, 14.7, 16.13, 16.65, 18.97])\n",
    "# periods\n",
    "N_periods = np.array([20, 20, 20, 10, 10, 10, 10, 10, 10, 10])"
   ]
  },
  {
   "attachments": {},
   "cell_type": "markdown",
   "metadata": {},
   "source": [
    "### Calculate values in basic units and per period"
   ]
  },
  {
   "cell_type": "code",
   "execution_count": null,
   "metadata": {},
   "outputs": [],
   "source": [
    "period = time/N_periods\n",
    "length = length_cm / 100"
   ]
  },
  {
   "attachments": {},
   "cell_type": "markdown",
   "metadata": {},
   "source": [
    "### Plot Data"
   ]
  },
  {
   "cell_type": "code",
   "execution_count": null,
   "metadata": {},
   "outputs": [],
   "source": [
    "plt.style.use('seaborn-v0_8-whitegrid')\n",
    "plt.figure(figsize=(10,5), dpi=300)\n",
    "plt.title('Period vs. Length for Mathematical Pendulum')\n",
    "plt.xlabel('Length (m)')\n",
    "plt.ylabel('Period (s)')\n",
    "\n",
    "plt.plot(length, period, \".\")"
   ]
  },
  {
   "attachments": {},
   "cell_type": "markdown",
   "metadata": {},
   "source": [
    "### Errors"
   ]
  },
  {
   "cell_type": "code",
   "execution_count": null,
   "metadata": {},
   "outputs": [],
   "source": [
    "# time error per measurement in s\n",
    "dt = 0.1\n",
    "# length error in m\n",
    "dl = 0.005\n",
    "dT= dt/N_periods"
   ]
  },
  {
   "attachments": {},
   "cell_type": "markdown",
   "metadata": {},
   "source": [
    "### Plot graph with error bars"
   ]
  },
  {
   "cell_type": "code",
   "execution_count": null,
   "metadata": {},
   "outputs": [],
   "source": [
    "plt.style.use('seaborn-v0_8-whitegrid')\n",
    "plt.figure(figsize=(10,5), dpi=300)\n",
    "plt.title('Period vs. Length for Mathematical Pendulum')\n",
    "plt.xlabel('Length (m)')\n",
    "plt.ylabel('Period (s)')\n",
    "\n",
    "plt.errorbar(length, period, yerr=dT, xerr=dl, fmt='.', ecolor='black', capsize=2)"
   ]
  },
  {
   "attachments": {},
   "cell_type": "markdown",
   "metadata": {},
   "source": [
    "### Define Fit Function"
   ]
  },
  {
   "cell_type": "code",
   "execution_count": null,
   "metadata": {},
   "outputs": [],
   "source": [
    "def f(x, a):\n",
    "    return a * np.sqrt(x)\n",
    "\n",
    "a_optimal, cov = curve_fit(f, length, period)"
   ]
  },
  {
   "attachments": {},
   "cell_type": "markdown",
   "metadata": {},
   "source": [
    "### Calculate Fit Parameters and Plot Best Fit"
   ]
  },
  {
   "cell_type": "code",
   "execution_count": null,
   "metadata": {},
   "outputs": [],
   "source": [
    "x = np.linspace(min(length), max(length), 1000)\n",
    "y = f(x, a_optimal)\n",
    "\n",
    "plt.style.use('seaborn-v0_8-whitegrid')\n",
    "plt.figure(figsize=(10,5), dpi=300)\n",
    "plt.title('Period vs. Length for Mathematical Pendulum')\n",
    "plt.xlabel('Length (m)')\n",
    "plt.ylabel('Period (s)')\n",
    "\n",
    "plt.errorbar(length, period, yerr=dT, xerr=dl, fmt='.', ecolor='black', capsize=2, label='data')\n",
    "plt.plot(x, y, label='fit function')\n",
    "plt.legend()"
   ]
  },
  {
   "attachments": {},
   "cell_type": "markdown",
   "metadata": {},
   "source": [
    "### Calculate Residuals and Show Residual Plot"
   ]
  },
  {
   "cell_type": "code",
   "execution_count": null,
   "metadata": {},
   "outputs": [],
   "source": [
    "res = period - f(length, a_optimal)\n",
    "\n",
    "plt.style.use('seaborn-v0_8-whitegrid')\n",
    "plt.figure(figsize=(10,5), dpi=300)\n",
    "plt.title('Residual Plot')\n",
    "plt.xlabel('Length (m)')\n",
    "plt.ylabel('Period (s)')\n",
    "\n",
    "plt.errorbar(length, res, yerr=dT, fmt='.', ecolor='black', capsize=2, label='data')"
   ]
  },
  {
   "attachments": {},
   "cell_type": "markdown",
   "metadata": {},
   "source": [
    "### Calculate Gravitational Acceleration"
   ]
  },
  {
   "cell_type": "code",
   "execution_count": null,
   "metadata": {},
   "outputs": [],
   "source": [
    "4 * np.pi**2 / a_optimal**2"
   ]
  },
  {
   "cell_type": "code",
   "execution_count": null,
   "metadata": {},
   "outputs": [],
   "source": [
    "g = 4 * np.pi**2 * length / period**2\n",
    "N = len(g)\n",
    "\n",
    "gmax = 4 * np.pi**2 * (length + dl) / (period - dT)**2\n",
    "dg = (gmax - g).mean()/np.sqrt(N)\n",
    "\n",
    "\n",
    "print(f'g = ({g.mean():.5f} ± {dg:.5f}) m/s2 = ({g.mean():.2f} ± {dg:.2f}) m/s2')"
   ]
  },
  {
   "cell_type": "code",
   "execution_count": null,
   "metadata": {},
   "outputs": [],
   "source": []
  }
 ],
 "metadata": {
  "kernelspec": {
   "display_name": "physicslab",
   "language": "python",
   "name": "python3"
  },
  "language_info": {
   "codemirror_mode": {
    "name": "ipython",
    "version": 3
   },
   "file_extension": ".py",
   "mimetype": "text/x-python",
   "name": "python",
   "nbconvert_exporter": "python",
   "pygments_lexer": "ipython3",
   "version": "3.10.9"
  }
 },
 "nbformat": 4,
 "nbformat_minor": 2
}
